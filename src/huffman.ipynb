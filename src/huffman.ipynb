{
 "cells": [
  {
   "cell_type": "markdown",
   "id": "5e833354",
   "metadata": {},
   "source": [
    "# Código de Huffman"
   ]
  },
  {
   "cell_type": "markdown",
   "id": "7bc9fa67",
   "metadata": {},
   "source": [
    "O processo de codificação é dividido em 4 **passos**:\n",
    "- Contar a frequência dos símbolos\n",
    "- Montar uma árvore binária, agrupando os símbolos por sua frequência;\n",
    "- Percorrer a árvore para montar o dicionário com o novo código de cada símbolo;\n",
    "- Re-codificar os dados usando esse dicionário."
   ]
  },
  {
   "cell_type": "markdown",
   "id": "85e47cef",
   "metadata": {},
   "source": [
    "---"
   ]
  },
  {
   "cell_type": "code",
   "execution_count": 31,
   "id": "50a19fbb",
   "metadata": {},
   "outputs": [],
   "source": [
    "class No():\n",
    "\n",
    "    def __init__(self, caractere, dire=None, esqu=None):\n",
    "        self.car = caractere\n",
    "        self.cod = ''\n",
    "        self.dir = dire\n",
    "        self.esq = esqu\n",
    "        self.frequencia = 1\n",
    "    \n",
    "    def add(self):\n",
    "        self.frequencia += 1\n",
    "    \n",
    "    def show(self):\n",
    "        print(f'caractere: {self.car}')\n",
    "        print(f'código: {self.cod}')\n",
    "        print(f'frequencia: {self.frequencia}')"
   ]
  },
  {
   "cell_type": "code",
   "execution_count": 32,
   "id": "cc3a053e",
   "metadata": {},
   "outputs": [],
   "source": [
    "class Arvore():\n",
    "    \n",
    "    def __init__(self, texto):\n",
    "        self.texto = texto\n",
    "        self.codificado = ''\n",
    "        self.frequencias = []\n",
    "        self.raiz = None\n",
    "        \n",
    "        self.templateMethod()\n",
    "        \n",
    "    def templateMethod(self):\n",
    "        \"\"\"Esse método chama os métodos para a próxima etapa\"\"\"\n",
    "        self.contaFrequencia()\n",
    "        self.ordenaFrequencia()\n",
    "        self.montarArvore()\n",
    "        \n",
    "        if self.raiz.car != '+':\n",
    "            self.raiz.cod = '0'\n",
    "        else:\n",
    "            self.montarTabelaCods(no=self.raiz)\n",
    "        \n",
    "        self.codificar()\n",
    "        self.taxas()\n",
    "\n",
    "    def busca(self, caractere):\n",
    "        \"\"\"Esse método busca um caractere na lista de frequências\"\"\"\n",
    "        busca = -1\n",
    "        i = 0\n",
    "        while(i < len(self.frequencias) and busca == -1):\n",
    "            if caractere == self.frequencias[i].car:\n",
    "                busca = i\n",
    "            i += 1\n",
    "        return busca\n",
    "            \n",
    "    def contaFrequencia(self): \n",
    "        for i in range(len(self.texto)):\n",
    "            busca = self.busca(self.texto[i])\n",
    "            if busca == -1:\n",
    "                '''Este caractere ainda não foi inserido na tabela'''\n",
    "                self.frequencias.append(No(self.texto[i]))\n",
    "            else:\n",
    "                '''Este caractere JÁ foi inserido na tabela, logo só é preciso incrementar a frequencia'''\n",
    "                self.frequencias[busca].add()\n",
    "           \n",
    "    def apresenta(self):\n",
    "        print('-' * 50)\n",
    "        for i in self.frequencias:\n",
    "            print(f'Caractere: {i.car} aparece {i.frequencia} vezes;')\n",
    "    \n",
    "    def ordenaFrequencia(self):\n",
    "        self.frequencias = sorted(self.frequencias, key=lambda x: x.frequencia)\n",
    "\n",
    "    def pega2menores(self):\n",
    "        '''Função que retorna os dois nós que possuem as menores frequências'''\n",
    "        menores = [self.frequencias[0], self.frequencias[1]]\n",
    "        self.frequencias.pop(0)\n",
    "        self.frequencias.pop(0)\n",
    "        return menores\n",
    "\n",
    "    def criaNovoNoPai(self, menores):\n",
    "        Novo = No('+')\n",
    "        Novo.esq = menores[0]\n",
    "        Novo.dir = menores[1]\n",
    "        Novo.frequencia = Novo.esq.frequencia + Novo.dir.frequencia\n",
    "        menores.pop(0); menores.pop(0)\n",
    "        return Novo\n",
    "\n",
    "    def montarArvore(self):\n",
    "        # 1 - Pega os dois menores\n",
    "        # 2 - Cria um novo Nó pai, sendo que seus filhos são os dois nós pegados recentemente\n",
    "        # 3 - Coloca o novo nó pai na lista de frequências\n",
    "        # 4 - Ordena a lista de frequências;\n",
    "        while( len(self.frequencias) > 1 ):\n",
    "            menores = self.pega2menores()\n",
    "            NovoNo = self.criaNovoNoPai(menores)\n",
    "            self.frequencias.append(NovoNo)\n",
    "            self.ordenaFrequencia()\n",
    "        self.raiz = self.frequencias[0]\n",
    "        \n",
    "    \n",
    "    def ehFolha(self, no):\n",
    "        if no.dir == None and no.esq == None:\n",
    "            return True\n",
    "        else:\n",
    "            return False\n",
    "    \n",
    "    def preOrdem(self, no):\n",
    "        \n",
    "        if no != None:\n",
    "            print('-' * 50)\n",
    "            no.show()\n",
    "            self.preOrdem(no.esq)\n",
    "            self.preOrdem(no.dir)\n",
    "\n",
    "    def preOrdemSemMais(self, no):\n",
    "        if no != None:\n",
    "            if no.car != '+':\n",
    "                print('-' * 50)\n",
    "                no.show()\n",
    "                \n",
    "            self.preOrdemSemMais(no.esq)\n",
    "            self.preOrdemSemMais(no.dir)\n",
    "\n",
    "    def montarTabelaCods(self, no, codigo=''):\n",
    "        # a[0:len(a)-1]\n",
    "        if no != None:\n",
    "            if no.car != '+':\n",
    "                no.cod = codigo\n",
    "            else: \n",
    "                self.montarTabelaCods(no=no.esq, codigo=codigo+'0') # Ir para a esquerda\n",
    "                self.montarTabelaCods(no=no.dir, codigo=codigo+'1') # Ir para a direita\n",
    "\n",
    "        if len(codigo) > 0:\n",
    "            codigo = codigo[0:len(codigo)-1]\n",
    "    \n",
    "    def buscarCar(self, no, car, retorno=None):\n",
    "        if no != None and retorno == None:\n",
    "            if no.car == car:\n",
    "                retorno = no\n",
    "            else:\n",
    "                retorno = self.buscarCar(no.esq, car, retorno)\n",
    "                retorno = self.buscarCar(no.dir, car, retorno)\n",
    "        return retorno\n",
    "\n",
    "    def codificar(self):\n",
    "        for i in self.texto:\n",
    "            no = self.buscarCar(self.raiz, i, None)\n",
    "            self.codificado += no.cod\n",
    "\n",
    "    def codificarASCII(self):\n",
    "        retorno = ''\n",
    "        for i in self.texto:\n",
    "            retorno += format( ord(i), 'b' )\n",
    "    \n",
    "    def acharFolha(self, no, i):\n",
    "        if no != None:\n",
    "            if no.car != '+':\n",
    "                retorno = [no.car, i]\n",
    "            elif self.codificado[i] == '1':\n",
    "                retorno = self.acharFolha(no=no.dir, i=i+1)\n",
    "            elif self.codificado[i] == '0':\n",
    "                retorno = self.acharFolha(no=no.esq, i=i+1)\n",
    "        return retorno\n",
    "\n",
    "    def decodificar(self):\n",
    "        decodificado = ''\n",
    "        i = 0\n",
    "        while( i < len(self.codificado) ):\n",
    "            retorno = self.acharFolha(self.raiz, i)\n",
    "            decodificado += retorno[0]\n",
    "            if retorno[1] == i:\n",
    "                i += 1\n",
    "            else:\n",
    "                i = retorno[1]\n",
    "        \n",
    "        if decodificado == self.texto:\n",
    "            print('Decodificado com sucesso!')\n",
    "\n",
    "        return decodificado\n",
    "\n",
    "    def taxas(self):\n",
    "        tamOriginal = len(self.texto)*8\n",
    "        tamCod = len(self.codificado)\n",
    "        taxa = round(100 - (tamCod / (tamOriginal / 100)), 2)\n",
    "\n",
    "        print(f'Tamanho do texto original:.......{tamOriginal} bits')\n",
    "        print(f'Tamanho do texto codificado:.....{tamCod} bits')\n",
    "        print(f'Taxa: {taxa}% de redução.')\n",
    "        print()"
   ]
  },
  {
   "cell_type": "code",
   "execution_count": 33,
   "id": "3ef5e5eb",
   "metadata": {},
   "outputs": [
    {
     "name": "stdout",
     "output_type": "stream",
     "text": [
      "Tamanho do texto original:.......184 bits\n",
      "Tamanho do texto codificado:.....74 bits\n",
      "Taxa: 59.78% de redução.\n",
      "\n"
     ]
    },
    {
     "data": {
      "text/plain": [
       "'00101111101111010011111011100101010001111000001001010100111111101000100101'"
      ]
     },
     "execution_count": 33,
     "metadata": {},
     "output_type": "execute_result"
    }
   ],
   "source": [
    "arv = Arvore('CASA_PAPEL_HOTEL_PASTEL')\n",
    "arv.codificado"
   ]
  },
  {
   "cell_type": "code",
   "execution_count": 34,
   "id": "c689db11",
   "metadata": {},
   "outputs": [
    {
     "name": "stdout",
     "output_type": "stream",
     "text": [
      "Tamanho do texto original:.......232 bits\n",
      "Tamanho do texto codificado:.....29 bits\n",
      "Taxa: 87.5% de redução.\n",
      "\n",
      "Decodificado com sucesso!\n"
     ]
    },
    {
     "data": {
      "text/plain": [
       "'aaaaaaaaaaaaaaaaaaaaaaaaaaaaa'"
      ]
     },
     "execution_count": 34,
     "metadata": {},
     "output_type": "execute_result"
    }
   ],
   "source": [
    "arv2 = Arvore('aaaaaaaaaaaaaaaaaaaaaaaaaaaaa')\n",
    "arv2.decodificar()"
   ]
  },
  {
   "cell_type": "code",
   "execution_count": 35,
   "id": "a35a39a7",
   "metadata": {},
   "outputs": [
    {
     "name": "stdout",
     "output_type": "stream",
     "text": [
      "Tamanho do texto original:.......3212184 bits\n",
      "Tamanho do texto codificado:.....1824219 bits\n",
      "Taxa: 43.21% de redução.\n",
      "\n"
     ]
    }
   ],
   "source": [
    "entire_book = \"\"\n",
    "\n",
    "arq = open('texto.txt', 'r')\n",
    "\n",
    "for line in arq:\n",
    "    entire_book += line\n",
    "\n",
    "arq.close() \n",
    "\n",
    "arv3 = Arvore(entire_book)"
   ]
  }
 ],
 "metadata": {
  "kernelspec": {
   "display_name": "Python 3 (ipykernel)",
   "language": "python",
   "name": "python3"
  },
  "language_info": {
   "codemirror_mode": {
    "name": "ipython",
    "version": 3
   },
   "file_extension": ".py",
   "mimetype": "text/x-python",
   "name": "python",
   "nbconvert_exporter": "python",
   "pygments_lexer": "ipython3",
   "version": "3.8.10"
  }
 },
 "nbformat": 4,
 "nbformat_minor": 5
}
